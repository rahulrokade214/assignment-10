{
 "cells": [
  {
   "cell_type": "markdown",
   "id": "494932e7-4cd8-4e7a-a2df-e42027f642d8",
   "metadata": {},
   "source": [
    "## Q1. What is Abstraction in OOps? Explain with an example.\n"
   ]
  },
  {
   "cell_type": "markdown",
   "id": "c3446cde-5866-4853-afe6-3c3efc8efa7f",
   "metadata": {},
   "source": [
    "### Abstraction is the process of hiding the internal details of an application from the outer world. Abstraction is used to describe things in simple terms. It's used to create a boundary between the application and the client programs."
   ]
  },
  {
   "cell_type": "markdown",
   "id": "0c35dfb9-d800-48e3-baba-1fea9479e466",
   "metadata": {},
   "source": [
    "## Q2. Differentiate between Abstraction and Encapsulation. Explain with an example.\n"
   ]
  },
  {
   "cell_type": "markdown",
   "id": "1e554e6d-aa70-469a-9b8d-25c18fd098a2",
   "metadata": {},
   "source": [
    "### Abstraction represents only useful data, whereas encapsulation wraps data and codes for necessary information. Moreover, it helps developers to easily organize the whole code. Hiding: Abstraction provides you with a more abstract overview and thus hides the complexity."
   ]
  },
  {
   "cell_type": "markdown",
   "id": "8df4d3a4-1513-4d5b-8a3f-66819c883746",
   "metadata": {},
   "source": [
    "## Q3. What is abc module in python? Why is it used?\n"
   ]
  },
  {
   "cell_type": "markdown",
   "id": "93274122-c64d-4a37-979a-f705cb3d58ba",
   "metadata": {},
   "source": [
    "### # Abstraction represents only useful data, whereas encapsulation wraps data and codes for necessary information. Moreover, it helps developers to easily organize the whole code. Hiding: Abstraction provides you with a more abstract overview and thus hides the complexity."
   ]
  },
  {
   "cell_type": "markdown",
   "id": "d3ec2657-2788-4b51-b61f-25eadd77224e",
   "metadata": {},
   "source": [
    "## Q4. How can we achieve data abstraction?\n"
   ]
  },
  {
   "cell_type": "markdown",
   "id": "bcaaba14-ec88-4d4f-b10f-bc948db32ab9",
   "metadata": {},
   "source": [
    "### We can achieve data abstraction through Abstract classes and interfaces. Through abstract classes, you can achieve partial or complete abstraction as abstract classes contain methods that have an implementation which can result in partial abstraction."
   ]
  },
  {
   "cell_type": "markdown",
   "id": "ace25f7a-b12a-4e25-bff6-c6e291fa8598",
   "metadata": {},
   "source": [
    "## Q5. Can we create an instance of an abstract class? Explain your answer."
   ]
  },
  {
   "cell_type": "markdown",
   "id": "9e21d769-ee93-4e3b-b074-b74bef0267be",
   "metadata": {},
   "source": [
    "## Abstract classes cannot be instantiated, but they can be subclassed. When an abstract class is subclassed, the subclass usually provides implementations for all of the abstract methods in its parent class. However, if it does not, then the subclass must also be declared abstract ."
   ]
  }
 ],
 "metadata": {
  "kernelspec": {
   "display_name": "Python 3 (ipykernel)",
   "language": "python",
   "name": "python3"
  },
  "language_info": {
   "codemirror_mode": {
    "name": "ipython",
    "version": 3
   },
   "file_extension": ".py",
   "mimetype": "text/x-python",
   "name": "python",
   "nbconvert_exporter": "python",
   "pygments_lexer": "ipython3",
   "version": "3.10.8"
  }
 },
 "nbformat": 4,
 "nbformat_minor": 5
}
